{
 "cells": [
  {
   "cell_type": "code",
   "execution_count": 5,
   "metadata": {},
   "outputs": [],
   "source": [
    "# watermelon division (problem 4A)\n",
    "def even_division (n):\n",
    "    if (n < 0) | (n > 100):\n",
    "        raise ValueError('Weight should be between 1 and 100')\n",
    "    \n",
    "    if n%2 == 0:\n",
    "        return True\n",
    "    else:\n",
    "        return False"
   ]
  },
  {
   "cell_type": "code",
   "execution_count": 73,
   "metadata": {},
   "outputs": [],
   "source": [
    "def get_input(filepath):\n",
    "    with open(filepath, 'r') as file:\n",
    "        return [re.sub('[^a-z0-9 ]+', '', i) for i in file.readlines()]"
   ]
  },
  {
   "cell_type": "code",
   "execution_count": 74,
   "metadata": {},
   "outputs": [
    {
     "name": "stdout",
     "output_type": "stream",
     "text": [
      "word\n",
      "l10n\n",
      "i18n\n",
      "p43s\n"
     ]
    }
   ],
   "source": [
    "# Way too long words (problem 71A)\n",
    "import re\n",
    "        \n",
    "def too_long_words(lst):\n",
    "    i = int(lst[0])\n",
    "    \n",
    "    for i in range(1, i+1):\n",
    "        word = lst[i]\n",
    "        word_length = len(word)\n",
    "        \n",
    "        if (word_length > 10):\n",
    "            print (word[0] + str(word_length-2) + word[-1])\n",
    "        else:\n",
    "            print (word)\n",
    "        \n",
    "too_long_words(get_input('./inputs/71A.txt'))"
   ]
  },
  {
   "cell_type": "code",
   "execution_count": 75,
   "metadata": {},
   "outputs": [
    {
     "data": {
      "text/plain": [
       "2"
      ]
     },
     "execution_count": 75,
     "metadata": {},
     "output_type": "execute_result"
    }
   ],
   "source": [
    "# team (problem 231A)\n",
    "def team(lst):\n",
    "    num_problems = 0\n",
    "    i = int(lst[0])\n",
    "    for line in range(1, i+1):\n",
    "        \n",
    "        sol = 0\n",
    "        problem = lst[line].split(' ')\n",
    "        for j in range(0, len(problem)):\n",
    "            sol += int(problem[j])\n",
    "            \n",
    "        if sol >= 2:\n",
    "            num_problems += 1\n",
    "    \n",
    "    return num_problems \n",
    "\n",
    "team(get_input('./inputs/231A.txt'))"
   ]
  },
  {
   "cell_type": "code",
   "execution_count": 78,
   "metadata": {},
   "outputs": [
    {
     "data": {
      "text/plain": [
       "6"
      ]
     },
     "execution_count": 78,
     "metadata": {},
     "output_type": "execute_result"
    }
   ],
   "source": [
    "# next round (problem 158A)\n",
    "def next_round(lst):\n",
    "    if len(lst) > 2:\n",
    "        raise ValueError('Input should consisit of only 2 lines')\n",
    "    \n",
    "    line1 = lst[0].split(' ')\n",
    "    n = int(line1[0])\n",
    "    k = int(line1[1])\n",
    "    num_participants = 0\n",
    "    \n",
    "    line2 = lst[1].split(' ')\n",
    "    for i in range(0, n):\n",
    "        if int(line2[i]) > k:\n",
    "            num_participants += 1\n",
    "    \n",
    "    return num_participants\n",
    "    \n",
    "next_round(get_input('./inputs/158A.txt'))"
   ]
  },
  {
   "cell_type": "code",
   "execution_count": 97,
   "metadata": {},
   "outputs": [
    {
     "data": {
      "text/plain": [
       "4"
      ]
     },
     "execution_count": 97,
     "metadata": {},
     "output_type": "execute_result"
    }
   ],
   "source": [
    "# taxi (problem 158B)\n",
    "def taxi(lst):\n",
    "    if len(lst) > 2:\n",
    "        raise ValueError('Input should consisit of only 2 lines')\n",
    "    \n",
    "    num_friends = 0    \n",
    "    num_groups = int(lst[0])\n",
    "    line2 = lst[1].split(' ')\n",
    "    \n",
    "    for i in range(0, num_groups):\n",
    "        num_friends += int(line2[i])\n",
    "        \n",
    "    return -(-num_friends//4)\n",
    "\n",
    "taxi(get_input('./inputs/158B.txt'))"
   ]
  },
  {
   "cell_type": "code",
   "execution_count": 84,
   "metadata": {},
   "outputs": [
    {
     "data": {
      "text/plain": [
       "4"
      ]
     },
     "execution_count": 84,
     "metadata": {},
     "output_type": "execute_result"
    }
   ],
   "source": [
    "# domino piling (problem 50A)\n",
    "def domino_piling(m, n):\n",
    "    return (m*n)//2\n",
    "\n",
    "domino_piling(3, 3)"
   ]
  },
  {
   "cell_type": "code",
   "execution_count": 95,
   "metadata": {},
   "outputs": [
    {
     "data": {
      "text/plain": [
       "100"
      ]
     },
     "execution_count": 95,
     "metadata": {},
     "output_type": "execute_result"
    }
   ],
   "source": [
    "# symbol pairs (problem 50B)\n",
    "def symbol_pairs(word):\n",
    "    num_pairs = 0\n",
    "    \n",
    "    for i in range(0, len(word)):\n",
    "        for j in range(0, len(word)):\n",
    "            if word[i] == word[j]:\n",
    "                num_pairs += 1\n",
    "                \n",
    "    return num_pairs\n",
    "\n",
    "symbol_pairs('aaaaaaaaaa')"
   ]
  },
  {
   "cell_type": "code",
   "execution_count": null,
   "metadata": {},
   "outputs": [],
   "source": [
    "# maximization (problem 1497A)\n"
   ]
  }
 ],
 "metadata": {
  "kernelspec": {
   "display_name": "Python 3",
   "language": "python",
   "name": "python3"
  },
  "language_info": {
   "codemirror_mode": {
    "name": "ipython",
    "version": 3
   },
   "file_extension": ".py",
   "mimetype": "text/x-python",
   "name": "python",
   "nbconvert_exporter": "python",
   "pygments_lexer": "ipython3",
   "version": "3.8.5"
  }
 },
 "nbformat": 4,
 "nbformat_minor": 4
}
