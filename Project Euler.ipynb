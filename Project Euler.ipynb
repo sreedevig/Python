{
 "cells": [
  {
   "cell_type": "code",
   "execution_count": 42,
   "metadata": {},
   "outputs": [
    {
     "data": {
      "text/plain": [
       "872187"
      ]
     },
     "execution_count": 42,
     "metadata": {},
     "output_type": "execute_result"
    }
   ],
   "source": [
    "# Double-base palindromes (Problem 36)\n",
    "\n",
    "def reverse(string):\n",
    "    string = str(string)\n",
    "    reversed_str = ''\n",
    "    \n",
    "    for i in range(len(string)-1, 0-1, -1):\n",
    "        reversed_str += string[i]\n",
    "    \n",
    "    return (reversed_str)\n",
    "\n",
    "\n",
    "def doubleBasePal(number):\n",
    "    \n",
    "    palindrom_numbers = 0\n",
    "    \n",
    "    for num in range(1, number):\n",
    "\n",
    "        binary_num = '{0:b}'.format(num)\n",
    "    \n",
    "        if ((num == int(reverse(num))) & (binary_num == reverse(binary_num)) & (binary_num[0] != 0)):\n",
    "            palindrom_numbers += num\n",
    "\n",
    "    return palindrom_numbers\n",
    "    \n",
    "doubleBasePal(1000000)"
   ]
  },
  {
   "cell_type": "code",
   "execution_count": 43,
   "metadata": {},
   "outputs": [
    {
     "data": {
      "text/plain": [
       "19"
      ]
     },
     "execution_count": 43,
     "metadata": {},
     "output_type": "execute_result"
    }
   ],
   "source": [
    "# Counting tuples (Problem 537)\n",
    "import itertools\n",
    "\n",
    "mod = 1004535809\n",
    "\n",
    "def factors(n):\n",
    "    num_factors = 1\n",
    "    for i in range(2, n+1):\n",
    "        if (n % i == 0):\n",
    "            num_factors += 1\n",
    "        \n",
    "    return num_factors\n",
    "\n",
    "def numPrimes(n):\n",
    "    num_primes = 0\n",
    "    for i in range(1, n+1):\n",
    "        if factors(i) == 2:\n",
    "            num_primes += 1\n",
    "    return num_primes\n",
    "\n",
    "def maxNumWithFactor(factor):\n",
    "    n  = 1\n",
    "    cur_factor = 0\n",
    "    while (cur_factor <= factor-1):\n",
    "        cur_factor = numPrimes(n)\n",
    "        n += 1 \n",
    "        \n",
    "    return n\n",
    "\n",
    "def countingTuples(k): \n",
    "    n = maxNumWithFactor(k)\n",
    "\n",
    "    return len(list(item for item in list(itertools.product([i for i in range(1, n+1)], repeat=k)) if (sum(tuple(map(numPrimes, item))) == k)))\n",
    "\n",
    "countingTuples(3)"
   ]
  },
  {
   "cell_type": "code",
   "execution_count": 41,
   "metadata": {},
   "outputs": [
    {
     "ename": "MemoryError",
     "evalue": "",
     "output_type": "error",
     "traceback": [
      "\u001b[1;31m---------------------------------------------------------------------------\u001b[0m",
      "\u001b[1;31mMemoryError\u001b[0m                               Traceback (most recent call last)",
      "\u001b[1;32m<ipython-input-41-0bf14b18beb1>\u001b[0m in \u001b[0;36m<module>\u001b[1;34m\u001b[0m\n\u001b[1;32m----> 1\u001b[1;33m \u001b[0mcountingTuples\u001b[0m\u001b[1;33m(\u001b[0m\u001b[1;36m10\u001b[0m\u001b[1;33m)\u001b[0m\u001b[1;33m\u001b[0m\u001b[1;33m\u001b[0m\u001b[0m\n\u001b[0m",
      "\u001b[1;32m<ipython-input-39-122f6c6e43e8>\u001b[0m in \u001b[0;36mcountingTuples\u001b[1;34m(k)\u001b[0m\n\u001b[0;32m      4\u001b[0m     \u001b[0mn\u001b[0m \u001b[1;33m=\u001b[0m \u001b[0mmaxNumWithFactor\u001b[0m\u001b[1;33m(\u001b[0m\u001b[0mk\u001b[0m\u001b[1;33m)\u001b[0m\u001b[1;33m\u001b[0m\u001b[1;33m\u001b[0m\u001b[0m\n\u001b[0;32m      5\u001b[0m \u001b[1;33m\u001b[0m\u001b[0m\n\u001b[1;32m----> 6\u001b[1;33m     \u001b[1;32mreturn\u001b[0m \u001b[0mlen\u001b[0m\u001b[1;33m(\u001b[0m\u001b[0mlist\u001b[0m\u001b[1;33m(\u001b[0m\u001b[0mitem\u001b[0m \u001b[1;32mfor\u001b[0m \u001b[0mitem\u001b[0m \u001b[1;32min\u001b[0m \u001b[0mlist\u001b[0m\u001b[1;33m(\u001b[0m\u001b[0mitertools\u001b[0m\u001b[1;33m.\u001b[0m\u001b[0mproduct\u001b[0m\u001b[1;33m(\u001b[0m\u001b[1;33m[\u001b[0m\u001b[0mi\u001b[0m \u001b[1;32mfor\u001b[0m \u001b[0mi\u001b[0m \u001b[1;32min\u001b[0m \u001b[0mrange\u001b[0m\u001b[1;33m(\u001b[0m\u001b[1;36m1\u001b[0m\u001b[1;33m,\u001b[0m \u001b[0mn\u001b[0m\u001b[1;33m+\u001b[0m\u001b[1;36m1\u001b[0m\u001b[1;33m)\u001b[0m\u001b[1;33m]\u001b[0m\u001b[1;33m,\u001b[0m \u001b[0mrepeat\u001b[0m\u001b[1;33m=\u001b[0m\u001b[0mk\u001b[0m\u001b[1;33m)\u001b[0m\u001b[1;33m)\u001b[0m \u001b[1;32mif\u001b[0m \u001b[1;33m(\u001b[0m\u001b[0msum\u001b[0m\u001b[1;33m(\u001b[0m\u001b[0mtuple\u001b[0m\u001b[1;33m(\u001b[0m\u001b[0mmap\u001b[0m\u001b[1;33m(\u001b[0m\u001b[0mnumPrimes\u001b[0m\u001b[1;33m,\u001b[0m \u001b[0mitem\u001b[0m\u001b[1;33m)\u001b[0m\u001b[1;33m)\u001b[0m\u001b[1;33m)\u001b[0m \u001b[1;33m==\u001b[0m \u001b[0mk\u001b[0m\u001b[1;33m)\u001b[0m\u001b[1;33m)\u001b[0m\u001b[1;33m)\u001b[0m\u001b[1;33m\u001b[0m\u001b[1;33m\u001b[0m\u001b[0m\n\u001b[0m",
      "\u001b[1;31mMemoryError\u001b[0m: "
     ]
    }
   ],
   "source": [
    "countingTuples(10)"
   ]
  },
  {
   "cell_type": "code",
   "execution_count": null,
   "metadata": {},
   "outputs": [],
   "source": []
  }
 ],
 "metadata": {
  "kernelspec": {
   "display_name": "Python 3",
   "language": "python",
   "name": "python3"
  }
 },
 "nbformat": 4,
 "nbformat_minor": 4
}
