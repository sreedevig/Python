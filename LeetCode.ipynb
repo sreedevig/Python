{
 "cells": [
  {
   "cell_type": "code",
   "execution_count": null,
   "metadata": {},
   "outputs": [],
   "source": [
    "def fizzBuzz(n):\n",
    "    \n",
    "        output = []\n",
    "        for i in range(1, n+1):\n",
    "            if (i % 3 == 0) & (i % 5 == 0):\n",
    "                output.append('FizzBuzz')\n",
    "            elif i % 3 == 0:\n",
    "                output.append('Fizz')\n",
    "            elif i % 5 == 0:\n",
    "                output.append('Buzz')\n",
    "            else:\n",
    "                output.append(str(i))\n",
    "                \n",
    "        return output\n",
    "    \n",
    "print (fizzBuzz(5))"
   ]
  },
  {
   "cell_type": "code",
   "execution_count": 44,
   "metadata": {},
   "outputs": [
    {
     "name": "stdout",
     "output_type": "stream",
     "text": [
      "['apwt', 'apwu', 'apwv', 'apxt', 'apxu', 'apxv', 'apyt', 'apyu', 'apyv', 'apzt', 'apzu', 'apzv', 'aqwt', 'aqwu', 'aqwv', 'aqxt', 'aqxu', 'aqxv', 'aqyt', 'aqyu', 'aqyv', 'aqzt', 'aqzu', 'aqzv', 'arwt', 'arwu', 'arwv', 'arxt', 'arxu', 'arxv', 'aryt', 'aryu', 'aryv', 'arzt', 'arzu', 'arzv', 'aswt', 'aswu', 'aswv', 'asxt', 'asxu', 'asxv', 'asyt', 'asyu', 'asyv', 'aszt', 'aszu', 'aszv', 'bpwt', 'bpwu', 'bpwv', 'bpxt', 'bpxu', 'bpxv', 'bpyt', 'bpyu', 'bpyv', 'bpzt', 'bpzu', 'bpzv', 'bqwt', 'bqwu', 'bqwv', 'bqxt', 'bqxu', 'bqxv', 'bqyt', 'bqyu', 'bqyv', 'bqzt', 'bqzu', 'bqzv', 'brwt', 'brwu', 'brwv', 'brxt', 'brxu', 'brxv', 'bryt', 'bryu', 'bryv', 'brzt', 'brzu', 'brzv', 'bswt', 'bswu', 'bswv', 'bsxt', 'bsxu', 'bsxv', 'bsyt', 'bsyu', 'bsyv', 'bszt', 'bszu', 'bszv', 'cpwt', 'cpwu', 'cpwv', 'cpxt', 'cpxu', 'cpxv', 'cpyt', 'cpyu', 'cpyv', 'cpzt', 'cpzu', 'cpzv', 'cqwt', 'cqwu', 'cqwv', 'cqxt', 'cqxu', 'cqxv', 'cqyt', 'cqyu', 'cqyv', 'cqzt', 'cqzu', 'cqzv', 'crwt', 'crwu', 'crwv', 'crxt', 'crxu', 'crxv', 'cryt', 'cryu', 'cryv', 'crzt', 'crzu', 'crzv', 'cswt', 'cswu', 'cswv', 'csxt', 'csxu', 'csxv', 'csyt', 'csyu', 'csyv', 'cszt', 'cszu', 'cszv']\n"
     ]
    }
   ],
   "source": [
    "#Letter Combinations of a Phone Number\n",
    "import itertools\n",
    "\n",
    "phonebook = {2: ['a', 'b', 'c'],\n",
    "                 3: ['d', 'e', 'f'],\n",
    "                 4: ['g', 'h', 'i'],\n",
    "                 5: ['j', 'k', 'l'],\n",
    "                 6: ['m', 'n', 'o'],\n",
    "                 7: ['p', 'q', 'r', 's'],\n",
    "                 8: ['t', 'u', 'v'],\n",
    "                 9: ['w', 'x', 'y', 'z']\n",
    "                }\n",
    "    \n",
    "def letterCombinations(digits):\n",
    "    \n",
    "    if ((len(digits) < 1) | (len(digits) > 4)):\n",
    "        raise ValueError('Input length should be >=1 and <=4')\n",
    "        \n",
    "    elif (len(digits) < 2):\n",
    "        return phonebook[int(digits)]\n",
    "    \n",
    "    else:\n",
    "        for i in range(0, len(digits)):\n",
    "            return [m+n for m, n in itertools.product(phonebook[int(digits[i])], letterCombinations(digits[i+1:]))]\n",
    "\n",
    "\n",
    "print(letterCombinations('2798'))"
   ]
  },
  {
   "cell_type": "code",
   "execution_count": null,
   "metadata": {},
   "outputs": [],
   "source": []
  }
 ],
 "metadata": {
  "kernelspec": {
   "display_name": "Python 3",
   "language": "python",
   "name": "python3"
  },
  "language_info": {
   "codemirror_mode": {
    "name": "ipython",
    "version": 3
   },
   "file_extension": ".py",
   "mimetype": "text/x-python",
   "name": "python",
   "nbconvert_exporter": "python",
   "pygments_lexer": "ipython3",
   "version": "3.8.5"
  }
 },
 "nbformat": 4,
 "nbformat_minor": 4
}
