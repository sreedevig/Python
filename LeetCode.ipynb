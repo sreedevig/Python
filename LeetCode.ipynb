{
 "cells": [
  {
   "cell_type": "code",
   "execution_count": null,
   "metadata": {},
   "outputs": [],
   "source": [
    "def fizzBuzz(n):\n",
    "    \n",
    "        output = []\n",
    "        for i in range(1, n+1):\n",
    "            if (i % 3 == 0) & (i % 5 == 0):\n",
    "                output.append('FizzBuzz')\n",
    "            elif i % 3 == 0:\n",
    "                output.append('Fizz')\n",
    "            elif i % 5 == 0:\n",
    "                output.append('Buzz')\n",
    "            else:\n",
    "                output.append(str(i))\n",
    "                \n",
    "        return output\n",
    "    \n",
    "print (fizzBuzz(5))"
   ]
  },
  {
   "cell_type": "code",
   "execution_count": 40,
   "metadata": {},
   "outputs": [
    {
     "name": "stdout",
     "output_type": "stream",
     "text": [
      "\n",
      "\n",
      "['apw', 'apx', 'apy', 'apz', 'aqw', 'aqx', 'aqy', 'aqz', 'arw', 'arx', 'ary', 'arz', 'asw', 'asx', 'asy', 'asz', 'bpw', 'bpx', 'bpy', 'bpz', 'bqw', 'bqx', 'bqy', 'bqz', 'brw', 'brx', 'bry', 'brz', 'bsw', 'bsx', 'bsy', 'bsz', 'cpw', 'cpx', 'cpy', 'cpz', 'cqw', 'cqx', 'cqy', 'cqz', 'crw', 'crx', 'cry', 'crz', 'csw', 'csx', 'csy', 'csz']\n"
     ]
    }
   ],
   "source": [
    "import itertools\n",
    "\n",
    "phonebook = {2: ['a', 'b', 'c'],\n",
    "                 3: ['d', 'e', 'f'],\n",
    "                 4: ['g', 'h', 'i'],\n",
    "                 5: ['j', 'k', 'l'],\n",
    "                 6: ['m', 'n', 'o'],\n",
    "                 7: ['p', 'q', 'r', 's'],\n",
    "                 8: ['t', 'u', 'v'],\n",
    "                 9: ['w', 'x', 'y', 'z']\n",
    "                }\n",
    "    \n",
    "def letterCombinations(digits):\n",
    "    \n",
    "    if ((len(digits) < 1) | (len(digits) > 4)):\n",
    "        raise ValueError('Input length should be >=1 and <=4')\n",
    "        \n",
    "    elif (len(digits) < 2):\n",
    "        return phonebook[int(digits)]\n",
    "    \n",
    "    else:\n",
    "        letterComb = []\n",
    "        \n",
    "        for i in range(0, len(digits)):\n",
    "            print ()\n",
    "            return [m+n for m, n in itertools.product(phonebook[int(digits[i])], letterCombinations(digits[i+1:]))]\n",
    "    \n",
    "    return\n",
    "\n",
    "print(letterCombinations('279'))"
   ]
  }
 ],
 "metadata": {
  "kernelspec": {
   "display_name": "Python 3",
   "language": "python",
   "name": "python3"
  },
  "language_info": {
   "codemirror_mode": {
    "name": "ipython",
    "version": 3
   },
   "file_extension": ".py",
   "mimetype": "text/x-python",
   "name": "python",
   "nbconvert_exporter": "python",
   "pygments_lexer": "ipython3",
   "version": "3.8.5"
  }
 },
 "nbformat": 4,
 "nbformat_minor": 4
}
